{
 "cells": [
  {
   "cell_type": "markdown",
   "metadata": {},
   "source": [
    "# Project: Identify Customer Segments\n",
    "\n",
    "In this project, you will apply unsupervised learning techniques to identify segments of the population that form the core customer base for a mail-order sales company in Germany. These segments can then be used to direct marketing campaigns towards audiences that will have the highest expected rate of returns. The data that you will use has been provided by our partners at Bertelsmann Arvato Analytics, and represents a real-life data science task.\n",
    "\n",
    "This notebook will help you complete this task by providing a framework within which you will perform your analysis steps. In each step of the project, you will see some text describing the subtask that you will perform, followed by one or more code cells for you to complete your work. **Feel free to add additional code and markdown cells as you go along so that you can explore everything in precise chunks.** The code cells provided in the base template will outline only the major tasks, and will usually not be enough to cover all of the minor tasks that comprise it.\n",
    "\n",
    "It should be noted that while there will be precise guidelines on how you should handle certain tasks in the project, there will also be places where an exact specification is not provided. **There will be times in the project where you will need to make and justify your own decisions on how to treat the data.** These are places where there may not be only one way to handle the data. In real-life tasks, there may be many valid ways to approach an analysis task. One of the most important things you can do is clearly document your approach so that other scientists can understand the decisions you've made.\n",
    "\n",
    "At the end of most sections, there will be a Markdown cell labeled **Discussion**. In these cells, you will report your findings for the completed section, as well as document the decisions that you made in your approach to each subtask. **Your project will be evaluated not just on the code used to complete the tasks outlined, but also your communication about your observations and conclusions at each stage.**"
   ]
  },
  {
   "cell_type": "code",
   "execution_count": 1,
   "metadata": {},
   "outputs": [],
   "source": [
    "# import libraries here; add more as necessary\n",
    "import numpy as np\n",
    "import pandas as pd\n",
    "import matplotlib.pyplot as plt\n",
    "import seaborn as sns\n",
    "import operator\n",
    "\n",
    "# magic word for producing visualizations in notebook\n",
    "%matplotlib inline\n",
    "\n",
    "\n",
    "from sklearn.preprocessing import Imputer, StandardScaler\n",
    "from sklearn.decomposition import PCA\n",
    "from sklearn.cluster import KMeans"
   ]
  },
  {
   "cell_type": "markdown",
   "metadata": {},
   "source": [
    "### Step 0: Load the Data\n",
    "\n",
    "There are four files associated with this project (not including this one):\n",
    "\n",
    "- `Udacity_AZDIAS_Subset.csv`: Demographics data for the general population of Germany; 891211 persons (rows) x 85 features (columns).\n",
    "- `Udacity_CUSTOMERS_Subset.csv`: Demographics data for customers of a mail-order company; 191652 persons (rows) x 85 features (columns).\n",
    "- `Data_Dictionary.md`: Detailed information file about the features in the provided datasets.\n",
    "- `AZDIAS_Feature_Summary.csv`: Summary of feature attributes for demographics data; 85 features (rows) x 4 columns\n",
    "\n",
    "Each row of the demographics files represents a single person, but also includes information outside of individuals, including information about their household, building, and neighborhood. You will use this information to cluster the general population into groups with similar demographic properties. Then, you will see how the people in the customers dataset fit into those created clusters. The hope here is that certain clusters are over-represented in the customers data, as compared to the general population; those over-represented clusters will be assumed to be part of the core userbase. This information can then be used for further applications, such as targeting for a marketing campaign.\n",
    "\n",
    "To start off with, load in the demographics data for the general population into a pandas DataFrame, and do the same for the feature attributes summary. Note for all of the `.csv` data files in this project: they're semicolon (`;`) delimited, so you'll need an additional argument in your [`read_csv()`](https://pandas.pydata.org/pandas-docs/stable/generated/pandas.read_csv.html) call to read in the data properly. Also, considering the size of the main dataset, it may take some time for it to load completely.\n",
    "\n",
    "Once the dataset is loaded, it's recommended that you take a little bit of time just browsing the general structure of the dataset and feature summary file. You'll be getting deep into the innards of the cleaning in the first major step of the project, so gaining some general familiarity can help you get your bearings."
   ]
  },
  {
   "cell_type": "code",
   "execution_count": 2,
   "metadata": {},
   "outputs": [],
   "source": [
    "# Load in the general demographics data.\n",
    "azdias = pd.read_csv('Udacity_AZDIAS_Subset.csv', sep=';')\n",
    "\n",
    "# Load in the feature summary file.\n",
    "feat_info = pd.read_csv('AZDIAS_Feature_Summary.csv', sep=';')"
   ]
  },
  {
   "cell_type": "markdown",
   "metadata": {},
   "source": [
    "\n",
    "\n",
    "## Step 1: Preprocessing\n",
    "\n",
    "### Step 1.1: Assess Missing Data\n",
    "\n",
    "The feature summary file contains a summary of properties for each demographics data column. You will use this file to help you make cleaning decisions during this stage of the project. First of all, you should assess the demographics data in terms of missing data. Pay attention to the following points as you perform your analysis, and take notes on what you observe. Make sure that you fill in the **Discussion** cell with your findings and decisions at the end of each step that has one!\n",
    "\n",
    "#### Step 1.1.1: Convert Missing Value Codes to NaNs\n",
    "The fourth column of the feature attributes summary (loaded in above as `feat_info`) documents the codes from the data dictionary that indicate missing or unknown data. While the file encodes this as a list (e.g. `[-1,0]`), this will get read in as a string object. You'll need to do a little bit of parsing to make use of it to identify and clean the data. Convert data that matches a 'missing' or 'unknown' value code into a numpy NaN value. You might want to see how much data takes on a 'missing' or 'unknown' code, and how much data is naturally missing, as a point of interest.\n",
    "\n",
    "**As one more reminder, you are encouraged to add additional cells to break up your analysis into manageable chunks.**"
   ]
  },
  {
   "cell_type": "markdown",
   "metadata": {},
   "source": [
    "# Check the structure of the data after it's loaded (e.g. print the number of\n",
    "# rows and columns, print the first few rows).\n"
   ]
  },
  {
   "cell_type": "code",
   "execution_count": null,
   "metadata": {},
   "outputs": [],
   "source": [
    "azdias.info()"
   ]
  },
  {
   "cell_type": "code",
   "execution_count": null,
   "metadata": {},
   "outputs": [],
   "source": [
    "feat_info"
   ]
  },
  {
   "cell_type": "markdown",
   "metadata": {},
   "source": [
    "## Comparison and Convertion to NaN\n",
    "\n",
    "To convert the missing or unknown data to NaN in the next section, I need to compare the values in each \n",
    "column in the azdias dataset with the corresponding \"missing_or_unknown\" in feat_info. But the current datatype in\n",
    "feat_info appears to be string while the azdias dataset has either int or float. So, for effective comparison\n",
    "and replacement, they need to be of same data type."
   ]
  },
  {
   "cell_type": "code",
   "execution_count": 3,
   "metadata": {},
   "outputs": [
    {
     "name": "stdout",
     "output_type": "stream",
     "text": [
      "total missing values in azdias data set before NaN conversion : 4896838\n",
      "total missing values in azdias data set after NaN conversion: 8373929\n"
     ]
    },
    {
     "data": {
      "text/html": [
       "<div>\n",
       "<style scoped>\n",
       "    .dataframe tbody tr th:only-of-type {\n",
       "        vertical-align: middle;\n",
       "    }\n",
       "\n",
       "    .dataframe tbody tr th {\n",
       "        vertical-align: top;\n",
       "    }\n",
       "\n",
       "    .dataframe thead th {\n",
       "        text-align: right;\n",
       "    }\n",
       "</style>\n",
       "<table border=\"1\" class=\"dataframe\">\n",
       "  <thead>\n",
       "    <tr style=\"text-align: right;\">\n",
       "      <th></th>\n",
       "      <th>AGER_TYP</th>\n",
       "      <th>ALTERSKATEGORIE_GROB</th>\n",
       "      <th>ANREDE_KZ</th>\n",
       "      <th>CJT_GESAMTTYP</th>\n",
       "      <th>FINANZ_MINIMALIST</th>\n",
       "      <th>FINANZ_SPARER</th>\n",
       "      <th>FINANZ_VORSORGER</th>\n",
       "      <th>FINANZ_ANLEGER</th>\n",
       "      <th>FINANZ_UNAUFFAELLIGER</th>\n",
       "      <th>FINANZ_HAUSBAUER</th>\n",
       "      <th>...</th>\n",
       "      <th>PLZ8_ANTG1</th>\n",
       "      <th>PLZ8_ANTG2</th>\n",
       "      <th>PLZ8_ANTG3</th>\n",
       "      <th>PLZ8_ANTG4</th>\n",
       "      <th>PLZ8_BAUMAX</th>\n",
       "      <th>PLZ8_HHZ</th>\n",
       "      <th>PLZ8_GBZ</th>\n",
       "      <th>ARBEIT</th>\n",
       "      <th>ORTSGR_KLS9</th>\n",
       "      <th>RELAT_AB</th>\n",
       "    </tr>\n",
       "  </thead>\n",
       "  <tbody>\n",
       "    <tr>\n",
       "      <th>0</th>\n",
       "      <td>NaN</td>\n",
       "      <td>2.0</td>\n",
       "      <td>1</td>\n",
       "      <td>2.0</td>\n",
       "      <td>3</td>\n",
       "      <td>4</td>\n",
       "      <td>3</td>\n",
       "      <td>5</td>\n",
       "      <td>5</td>\n",
       "      <td>3</td>\n",
       "      <td>...</td>\n",
       "      <td>NaN</td>\n",
       "      <td>NaN</td>\n",
       "      <td>NaN</td>\n",
       "      <td>NaN</td>\n",
       "      <td>NaN</td>\n",
       "      <td>NaN</td>\n",
       "      <td>NaN</td>\n",
       "      <td>NaN</td>\n",
       "      <td>NaN</td>\n",
       "      <td>NaN</td>\n",
       "    </tr>\n",
       "    <tr>\n",
       "      <th>1</th>\n",
       "      <td>NaN</td>\n",
       "      <td>1.0</td>\n",
       "      <td>2</td>\n",
       "      <td>5.0</td>\n",
       "      <td>1</td>\n",
       "      <td>5</td>\n",
       "      <td>2</td>\n",
       "      <td>5</td>\n",
       "      <td>4</td>\n",
       "      <td>5</td>\n",
       "      <td>...</td>\n",
       "      <td>2.0</td>\n",
       "      <td>3.0</td>\n",
       "      <td>2.0</td>\n",
       "      <td>1.0</td>\n",
       "      <td>1.0</td>\n",
       "      <td>5.0</td>\n",
       "      <td>4.0</td>\n",
       "      <td>3.0</td>\n",
       "      <td>5.0</td>\n",
       "      <td>4.0</td>\n",
       "    </tr>\n",
       "    <tr>\n",
       "      <th>2</th>\n",
       "      <td>NaN</td>\n",
       "      <td>3.0</td>\n",
       "      <td>2</td>\n",
       "      <td>3.0</td>\n",
       "      <td>1</td>\n",
       "      <td>4</td>\n",
       "      <td>1</td>\n",
       "      <td>2</td>\n",
       "      <td>3</td>\n",
       "      <td>5</td>\n",
       "      <td>...</td>\n",
       "      <td>3.0</td>\n",
       "      <td>3.0</td>\n",
       "      <td>1.0</td>\n",
       "      <td>0.0</td>\n",
       "      <td>1.0</td>\n",
       "      <td>4.0</td>\n",
       "      <td>4.0</td>\n",
       "      <td>3.0</td>\n",
       "      <td>5.0</td>\n",
       "      <td>2.0</td>\n",
       "    </tr>\n",
       "    <tr>\n",
       "      <th>3</th>\n",
       "      <td>2.0</td>\n",
       "      <td>4.0</td>\n",
       "      <td>2</td>\n",
       "      <td>2.0</td>\n",
       "      <td>4</td>\n",
       "      <td>2</td>\n",
       "      <td>5</td>\n",
       "      <td>2</td>\n",
       "      <td>1</td>\n",
       "      <td>2</td>\n",
       "      <td>...</td>\n",
       "      <td>2.0</td>\n",
       "      <td>2.0</td>\n",
       "      <td>2.0</td>\n",
       "      <td>0.0</td>\n",
       "      <td>1.0</td>\n",
       "      <td>3.0</td>\n",
       "      <td>4.0</td>\n",
       "      <td>2.0</td>\n",
       "      <td>3.0</td>\n",
       "      <td>3.0</td>\n",
       "    </tr>\n",
       "    <tr>\n",
       "      <th>4</th>\n",
       "      <td>NaN</td>\n",
       "      <td>3.0</td>\n",
       "      <td>1</td>\n",
       "      <td>5.0</td>\n",
       "      <td>4</td>\n",
       "      <td>3</td>\n",
       "      <td>4</td>\n",
       "      <td>1</td>\n",
       "      <td>3</td>\n",
       "      <td>2</td>\n",
       "      <td>...</td>\n",
       "      <td>2.0</td>\n",
       "      <td>4.0</td>\n",
       "      <td>2.0</td>\n",
       "      <td>1.0</td>\n",
       "      <td>2.0</td>\n",
       "      <td>3.0</td>\n",
       "      <td>3.0</td>\n",
       "      <td>4.0</td>\n",
       "      <td>6.0</td>\n",
       "      <td>5.0</td>\n",
       "    </tr>\n",
       "    <tr>\n",
       "      <th>5</th>\n",
       "      <td>3.0</td>\n",
       "      <td>1.0</td>\n",
       "      <td>2</td>\n",
       "      <td>2.0</td>\n",
       "      <td>3</td>\n",
       "      <td>1</td>\n",
       "      <td>5</td>\n",
       "      <td>2</td>\n",
       "      <td>2</td>\n",
       "      <td>5</td>\n",
       "      <td>...</td>\n",
       "      <td>2.0</td>\n",
       "      <td>3.0</td>\n",
       "      <td>1.0</td>\n",
       "      <td>1.0</td>\n",
       "      <td>1.0</td>\n",
       "      <td>5.0</td>\n",
       "      <td>5.0</td>\n",
       "      <td>2.0</td>\n",
       "      <td>3.0</td>\n",
       "      <td>3.0</td>\n",
       "    </tr>\n",
       "    <tr>\n",
       "      <th>6</th>\n",
       "      <td>NaN</td>\n",
       "      <td>2.0</td>\n",
       "      <td>2</td>\n",
       "      <td>5.0</td>\n",
       "      <td>1</td>\n",
       "      <td>5</td>\n",
       "      <td>1</td>\n",
       "      <td>5</td>\n",
       "      <td>4</td>\n",
       "      <td>3</td>\n",
       "      <td>...</td>\n",
       "      <td>3.0</td>\n",
       "      <td>3.0</td>\n",
       "      <td>1.0</td>\n",
       "      <td>0.0</td>\n",
       "      <td>1.0</td>\n",
       "      <td>5.0</td>\n",
       "      <td>5.0</td>\n",
       "      <td>4.0</td>\n",
       "      <td>6.0</td>\n",
       "      <td>3.0</td>\n",
       "    </tr>\n",
       "    <tr>\n",
       "      <th>7</th>\n",
       "      <td>NaN</td>\n",
       "      <td>1.0</td>\n",
       "      <td>1</td>\n",
       "      <td>3.0</td>\n",
       "      <td>3</td>\n",
       "      <td>3</td>\n",
       "      <td>4</td>\n",
       "      <td>1</td>\n",
       "      <td>3</td>\n",
       "      <td>2</td>\n",
       "      <td>...</td>\n",
       "      <td>3.0</td>\n",
       "      <td>3.0</td>\n",
       "      <td>1.0</td>\n",
       "      <td>0.0</td>\n",
       "      <td>1.0</td>\n",
       "      <td>4.0</td>\n",
       "      <td>4.0</td>\n",
       "      <td>2.0</td>\n",
       "      <td>5.0</td>\n",
       "      <td>2.0</td>\n",
       "    </tr>\n",
       "    <tr>\n",
       "      <th>8</th>\n",
       "      <td>NaN</td>\n",
       "      <td>3.0</td>\n",
       "      <td>1</td>\n",
       "      <td>3.0</td>\n",
       "      <td>4</td>\n",
       "      <td>4</td>\n",
       "      <td>2</td>\n",
       "      <td>4</td>\n",
       "      <td>2</td>\n",
       "      <td>2</td>\n",
       "      <td>...</td>\n",
       "      <td>2.0</td>\n",
       "      <td>3.0</td>\n",
       "      <td>2.0</td>\n",
       "      <td>1.0</td>\n",
       "      <td>1.0</td>\n",
       "      <td>3.0</td>\n",
       "      <td>3.0</td>\n",
       "      <td>2.0</td>\n",
       "      <td>4.0</td>\n",
       "      <td>3.0</td>\n",
       "    </tr>\n",
       "    <tr>\n",
       "      <th>9</th>\n",
       "      <td>NaN</td>\n",
       "      <td>3.0</td>\n",
       "      <td>2</td>\n",
       "      <td>4.0</td>\n",
       "      <td>2</td>\n",
       "      <td>4</td>\n",
       "      <td>2</td>\n",
       "      <td>3</td>\n",
       "      <td>5</td>\n",
       "      <td>4</td>\n",
       "      <td>...</td>\n",
       "      <td>2.0</td>\n",
       "      <td>3.0</td>\n",
       "      <td>2.0</td>\n",
       "      <td>1.0</td>\n",
       "      <td>1.0</td>\n",
       "      <td>3.0</td>\n",
       "      <td>3.0</td>\n",
       "      <td>2.0</td>\n",
       "      <td>3.0</td>\n",
       "      <td>1.0</td>\n",
       "    </tr>\n",
       "  </tbody>\n",
       "</table>\n",
       "<p>10 rows × 85 columns</p>\n",
       "</div>"
      ],
      "text/plain": [
       "   AGER_TYP  ALTERSKATEGORIE_GROB  ANREDE_KZ  CJT_GESAMTTYP  \\\n",
       "0       NaN                   2.0          1            2.0   \n",
       "1       NaN                   1.0          2            5.0   \n",
       "2       NaN                   3.0          2            3.0   \n",
       "3       2.0                   4.0          2            2.0   \n",
       "4       NaN                   3.0          1            5.0   \n",
       "5       3.0                   1.0          2            2.0   \n",
       "6       NaN                   2.0          2            5.0   \n",
       "7       NaN                   1.0          1            3.0   \n",
       "8       NaN                   3.0          1            3.0   \n",
       "9       NaN                   3.0          2            4.0   \n",
       "\n",
       "   FINANZ_MINIMALIST  FINANZ_SPARER  FINANZ_VORSORGER  FINANZ_ANLEGER  \\\n",
       "0                  3              4                 3               5   \n",
       "1                  1              5                 2               5   \n",
       "2                  1              4                 1               2   \n",
       "3                  4              2                 5               2   \n",
       "4                  4              3                 4               1   \n",
       "5                  3              1                 5               2   \n",
       "6                  1              5                 1               5   \n",
       "7                  3              3                 4               1   \n",
       "8                  4              4                 2               4   \n",
       "9                  2              4                 2               3   \n",
       "\n",
       "   FINANZ_UNAUFFAELLIGER  FINANZ_HAUSBAUER    ...     PLZ8_ANTG1  PLZ8_ANTG2  \\\n",
       "0                      5                 3    ...            NaN         NaN   \n",
       "1                      4                 5    ...            2.0         3.0   \n",
       "2                      3                 5    ...            3.0         3.0   \n",
       "3                      1                 2    ...            2.0         2.0   \n",
       "4                      3                 2    ...            2.0         4.0   \n",
       "5                      2                 5    ...            2.0         3.0   \n",
       "6                      4                 3    ...            3.0         3.0   \n",
       "7                      3                 2    ...            3.0         3.0   \n",
       "8                      2                 2    ...            2.0         3.0   \n",
       "9                      5                 4    ...            2.0         3.0   \n",
       "\n",
       "   PLZ8_ANTG3  PLZ8_ANTG4  PLZ8_BAUMAX  PLZ8_HHZ  PLZ8_GBZ  ARBEIT  \\\n",
       "0         NaN         NaN          NaN       NaN       NaN     NaN   \n",
       "1         2.0         1.0          1.0       5.0       4.0     3.0   \n",
       "2         1.0         0.0          1.0       4.0       4.0     3.0   \n",
       "3         2.0         0.0          1.0       3.0       4.0     2.0   \n",
       "4         2.0         1.0          2.0       3.0       3.0     4.0   \n",
       "5         1.0         1.0          1.0       5.0       5.0     2.0   \n",
       "6         1.0         0.0          1.0       5.0       5.0     4.0   \n",
       "7         1.0         0.0          1.0       4.0       4.0     2.0   \n",
       "8         2.0         1.0          1.0       3.0       3.0     2.0   \n",
       "9         2.0         1.0          1.0       3.0       3.0     2.0   \n",
       "\n",
       "   ORTSGR_KLS9  RELAT_AB  \n",
       "0          NaN       NaN  \n",
       "1          5.0       4.0  \n",
       "2          5.0       2.0  \n",
       "3          3.0       3.0  \n",
       "4          6.0       5.0  \n",
       "5          3.0       3.0  \n",
       "6          6.0       3.0  \n",
       "7          5.0       2.0  \n",
       "8          4.0       3.0  \n",
       "9          3.0       1.0  \n",
       "\n",
       "[10 rows x 85 columns]"
      ]
     },
     "metadata": {},
     "output_type": "display_data"
    }
   ],
   "source": [
    "# Identify missing or unknown data values and convert them to NaNs.\n",
    "\n",
    "# note down the total missisng values\n",
    "print ('total missing values in azdias data set before NaN conversion :' , azdias.isnull().sum().sum())\n",
    "\n",
    "#browse thru feat_info missing/unknown column, convert to float and use that to compare\n",
    "#each column in the azdias and convert the matching rows to NaN\n",
    "for index in feat_info.index:\n",
    "    #get rid of the square braces\n",
    "    feat_info.loc[index,'missing_or_unknown'] = feat_info.loc[index,'missing_or_unknown'].strip('[]').split(',')\n",
    "    #print (feat_info.loc[index,'missing_or_unknown'])\n",
    "    #parse and convert the individual values in missing_or_unknown array into float\n",
    "    for val in range(len(feat_info.loc[index,'missing_or_unknown'])):\n",
    "        try:\n",
    "            feat_info.loc[index,'missing_or_unknown'][val] = float(feat_info.loc[index,'missing_or_unknown'][val])\n",
    "        except:\n",
    "            continue\n",
    "    #print (feat_info.loc[index,'missing_or_unknown'])\n",
    "    #compare with the corresponding column in azdias and replace matching rows with NaN\n",
    "    azdias.loc[:,(feat_info.loc[index, 'attribute'])].replace(feat_info.loc[index,'missing_or_unknown'], np.nan, inplace=True)\n",
    "    \n",
    "# recalculate the total missisng values\n",
    "print ('total missing values in azdias data set after NaN conversion:' , azdias.isnull().sum().sum())\n",
    "\n",
    "display (azdias.head (n=10))"
   ]
  },
  {
   "cell_type": "markdown",
   "metadata": {},
   "source": [
    "## Observation about Missing/Unknown Values \n",
    "\n",
    "\n",
    "All valid values of missing/unknown category converted to NaNs. With the step, the total missing values are about 8.3M. While this is a very big portion, given the main dataset has 75M data points overall, by proportion its just over 10% and I think it aligns with real life situation data sets."
   ]
  },
  {
   "cell_type": "markdown",
   "metadata": {},
   "source": [
    "#### Step 1.1.2: Assess Missing Data in Each Column\n",
    "\n",
    "How much missing data is present in each column? There are a few columns that are outliers in terms of the proportion of values that are missing. You will want to use matplotlib's [`hist()`](https://matplotlib.org/api/_as_gen/matplotlib.pyplot.hist.html) function to visualize the distribution of missing value counts to find these columns. Identify and document these columns. While some of these columns might have justifications for keeping or re-encoding the data, for this project you should just remove them from the dataframe. (Feel free to make remarks about these outlier columns in the discussion, however!)\n",
    "\n",
    "For the remaining features, are there any patterns in which columns have, or share, missing data?"
   ]
  },
  {
   "cell_type": "code",
   "execution_count": 7,
   "metadata": {},
   "outputs": [
    {
     "data": {
      "text/plain": [
       "(891221, 85)"
      ]
     },
     "execution_count": 7,
     "metadata": {},
     "output_type": "execute_result"
    }
   ],
   "source": [
    "azdias.shape"
   ]
  },
  {
   "cell_type": "code",
   "execution_count": 4,
   "metadata": {},
   "outputs": [
    {
     "data": {
      "text/plain": [
       "ALTERSKATEGORIE_GROB      0.323264\n",
       "CJT_GESAMTTYP             0.544646\n",
       "GFK_URLAUBERTYP           0.544646\n",
       "ONLINE_AFFINITAET         0.544646\n",
       "RETOURTYP_BK_S            0.544646\n",
       "LP_STATUS_FEIN            0.544646\n",
       "LP_STATUS_GROB            0.544646\n",
       "HH_EINKOMMEN_SCORE        2.058749\n",
       "ANZ_PERSONEN              8.247000\n",
       "SOHO_KZ                   8.247000\n",
       "ANZ_TITEL                 8.247000\n",
       "WOHNDAUER_2008            8.247000\n",
       "KONSUMNAEHE               8.299737\n",
       "LP_FAMILIE_GROB           8.728699\n",
       "LP_FAMILIE_FEIN           8.728699\n",
       "GEBAEUDETYP              10.451729\n",
       "WOHNLAGE                 10.451729\n",
       "OST_WEST_KZ              10.451729\n",
       "MIN_GEBAEUDEJAHR         10.451729\n",
       "GEBAEUDETYP_RASTER       10.452514\n",
       "EWDICHTE                 10.518154\n",
       "BALLRAUM                 10.518154\n",
       "INNENSTADT               10.518154\n",
       "LP_LEBENSPHASE_GROB      10.611509\n",
       "ANZ_HH_TITEL             10.884842\n",
       "ORTSGR_KLS9              10.914689\n",
       "ARBEIT                   10.926022\n",
       "RELAT_AB                 10.926022\n",
       "LP_LEBENSPHASE_FEIN      10.954859\n",
       "CAMEO_DEUG_2015          11.147852\n",
       "                           ...    \n",
       "CAMEO_INTL_2015          11.147852\n",
       "ANZ_HAUSHALTE_AKTIV      11.176913\n",
       "KBA13_ANZAHL_PKW         11.871354\n",
       "PRAEGENDE_JUGENDJAHRE    12.136608\n",
       "NATIONALITAET_KZ         12.153551\n",
       "HEALTH_TYP               12.476816\n",
       "VERS_TYP                 12.476816\n",
       "SHOPPER_TYP              12.476816\n",
       "PLZ8_ANTG2               13.073637\n",
       "PLZ8_ANTG3               13.073637\n",
       "PLZ8_ANTG1               13.073637\n",
       "PLZ8_ANTG4               13.073637\n",
       "PLZ8_BAUMAX              13.073637\n",
       "PLZ8_HHZ                 13.073637\n",
       "PLZ8_GBZ                 13.073637\n",
       "KBA05_ANTG3              14.959701\n",
       "KBA05_ANTG2              14.959701\n",
       "KBA05_ANTG1              14.959701\n",
       "MOBI_REGIO               14.959701\n",
       "KBA05_GBZ                14.959701\n",
       "KBA05_ANTG4              14.959701\n",
       "W_KEIT_KIND_HH           16.605084\n",
       "KKK                      17.735668\n",
       "REGIOTYP                 17.735668\n",
       "ALTER_HH                 34.813699\n",
       "GEBURTSJAHR              44.020282\n",
       "KBA05_BAUMAX             53.468668\n",
       "KK_KUNDENTYP             65.596749\n",
       "AGER_TYP                 76.955435\n",
       "TITEL_KZ                 99.757636\n",
       "Length: 61, dtype: float64"
      ]
     },
     "execution_count": 4,
     "metadata": {},
     "output_type": "execute_result"
    }
   ],
   "source": [
    "# Perform an assessment of how much missing data there is in each column of the\n",
    "# dataset.\n",
    "cols_with_missing_vals = azdias.isnull().sum()\n",
    "#calcualte the missing val % of each column\n",
    "cols_with_missing_vals  = cols_with_missing_vals [cols_with_missing_vals> 0]/(azdias.shape[0]) * 100\n",
    "cols_with_missing_vals.sort_values(inplace=True)\n",
    "cols_with_missing_vals"
   ]
  },
  {
   "cell_type": "code",
   "execution_count": 5,
   "metadata": {},
   "outputs": [
    {
     "data": {
      "image/png": "[encoded data removed]",
      "text/plain": [
       "<matplotlib.figure.Figure at 0x7f69bdc28a20>"
      ]
     },
     "metadata": {
      "needs_background": "light"
     },
     "output_type": "display_data"
    }
   ],
   "source": [
    "# Investigate patterns in the amount of missing data in each column.\n",
    "#missing percentage plotting\n",
    "plt.hist(cols_with_missing_vals, bins=20, facecolor='y', alpha=0.75)\n",
    "plt.xlabel('Missing (%) columns wise')\n",
    "plt.ylabel('Number of Columns')\n",
    "plt.title('Missing Data Chart - Column Wise')\n",
    "plt.grid(True)\n",
    "plt.show()"
   ]
  },
  {
   "cell_type": "code",
   "execution_count": 6,
   "metadata": {},
   "outputs": [
    {
     "name": "stdout",
     "output_type": "stream",
     "text": [
      "['AGER_TYP', 'GEBURTSJAHR', 'TITEL_KZ', 'ALTER_HH', 'KK_KUNDENTYP', 'KBA05_BAUMAX']\n"
     ]
    }
   ],
   "source": [
    "# Remove the outlier columns from the dataset. (You'll perform other data\n",
    "# engineering tasks such as re-encoding and imputation later.)\n",
    "# identify columns with > 18% missing values\n",
    "cols_with_high_missing_vals = [col for col in azdias.columns if (azdias[col].isnull().sum()/azdias.shape[0]) * 100 > 18]\n",
    "print(cols_with_high_missing_vals)\n"
   ]
  },
  {
   "cell_type": "code",
   "execution_count": 7,
   "metadata": {},
   "outputs": [
    {
     "data": {
      "text/plain": [
       "(891221, 79)"
      ]
     },
     "execution_count": 7,
     "metadata": {},
     "output_type": "execute_result"
    }
   ],
   "source": [
    "#drop the identified data set\n",
    "for col in cols_with_high_missing_vals:\n",
    "    azdias.drop(col, axis=1, inplace=True)\n",
    "azdias.shape"
   ]
  },
  {
   "cell_type": "markdown",
   "metadata": {},
   "source": [
    "#### Discussion 1.1.2: Assess Missing Data in Each Column\n",
    "\n",
    "Though there are more than 10% of data missing overall in the azdias dataset, they are more concentrated in a few columns as per the % calcualted and the plotted chart. I think this is good because those columns stand out as outliers. With so much missing values, I think those features cannot actively contribute or have any meaningful impact on the segment classtification logic of the model anyway. Based on the calculated % of missing values, all columns have < 18% data missing except for 6 columns. One column in this 6 has 99% missing data. So, I idenfitied the columns with > 18% missing data and removed them. The columns removed are ['AGER_TYP', 'GEBURTSJAHR', 'TITEL_KZ', 'ALTER_HH', 'KK_KUNDENTYP', 'KBA05_BAUMAX']. After this activity, I am left with 79 columns for further processing."
   ]
  },
  {
   "cell_type": "markdown",
   "metadata": {},
   "source": [
    "#### Step 1.1.3: Assess Missing Data in Each Row\n",
    "\n",
    "Now, you'll perform a similar assessment for the rows of the dataset. How much data is missing in each row? As with the columns, you should see some groups of points that have a very different numbers of missing values. Divide the data into two subsets: one for data points that are above some threshold for missing values, and a second subset for points below that threshold.\n",
    "\n",
    "In order to know what to do with the outlier rows, we should see if the distribution of data values on columns that are not missing data (or are missing very little data) are similar or different between the two groups. Select at least five of these columns and compare the distribution of values.\n",
    "- You can use seaborn's [`countplot()`](https://seaborn.pydata.org/generated/seaborn.countplot.html) function to create a bar chart of code frequencies and matplotlib's [`subplot()`](https://matplotlib.org/api/_as_gen/matplotlib.pyplot.subplot.html) function to put bar charts for the two subplots side by side.\n",
    "- To reduce repeated code, you might want to write a function that can perform this comparison, taking as one of its arguments a column to be compared.\n",
    "\n",
    "Depending on what you observe in your comparison, this will have implications on how you approach your conclusions later in the analysis. If the distributions of non-missing features look similar between the data with many missing values and the data with few or no missing values, then we could argue that simply dropping those points from the analysis won't present a major issue. On the other hand, if the data with many missing values looks very different from the data with few or no missing values, then we should make a note on those data as special. We'll revisit these data later on. **Either way, you should continue your analysis for now using just the subset of the data with few or no missing values.**"
   ]
  },
  {
   "cell_type": "code",
   "execution_count": 8,
   "metadata": {},
   "outputs": [
    {
     "data": {
      "text/plain": [
       "count    891221.000000\n",
       "mean          5.649894\n",
       "std          13.234687\n",
       "min           0.000000\n",
       "25%           0.000000\n",
       "50%           0.000000\n",
       "75%           3.000000\n",
       "max          49.000000\n",
       "dtype: float64"
      ]
     },
     "execution_count": 8,
     "metadata": {},
     "output_type": "execute_result"
    }
   ],
   "source": [
    "# How much data is missing in each row of the dataset?\n",
    "rows_with_missing_vals = azdias.isnull().sum(axis=1)\n",
    "rows_with_missing_vals.describe()"
   ]
  },
  {
   "cell_type": "code",
   "execution_count": 9,
   "metadata": {},
   "outputs": [],
   "source": [
    "rows_with_missing_vals = rows_with_missing_vals[rows_with_missing_vals > 0]/(len(azdias.columns)) * 100\n",
    "rows_with_missing_vals.sort_values(inplace=True)\n",
    "#rows_with_missing_vals"
   ]
  },
  {
   "cell_type": "code",
   "execution_count": 10,
   "metadata": {},
   "outputs": [
    {
     "data": {
      "image/png": "[encoded data removed]",
      "text/plain": [
       "<matplotlib.figure.Figure at 0x7f69bdc36f28>"
      ]
     },
     "metadata": {
      "needs_background": "light"
     },
     "output_type": "display_data"
    }
   ],
   "source": [
    "#plot the missing rows %\n",
    "plt.hist(rows_with_missing_vals, bins=20, facecolor='y', alpha=0.75)\n",
    "plt.xlabel('Missing (%) row wise')\n",
    "plt.ylabel('Number of rows')\n",
    "plt.title('Missing Data Chart - Row Wise')\n",
    "plt.grid(True)\n",
    "plt.show()"
   ]
  },
  {
   "cell_type": "code",
   "execution_count": 11,
   "metadata": {},
   "outputs": [],
   "source": [
    "# Write code to divide the data into two subsets based on the number of missing\n",
    "# values in each row.\n",
    "# 75% of rows have 3 or less missing values, so divide the data set with rows < or > 3 missing values\n",
    "\n",
    "rows_with_low_missing_values = azdias[azdias.isnull().sum(axis=1) <= 3].reset_index(drop=True)\n",
    "rows_with_high_missing_values = azdias[azdias.isnull().sum(axis=1) > 3].reset_index(drop=True)"
   ]
  },
  {
   "cell_type": "code",
   "execution_count": 12,
   "metadata": {},
   "outputs": [],
   "source": [
    "# Compare the distribution of values for at least five columns where there are\n",
    "# no or few missing values, between the two subsets.\n",
    "\n",
    "def draw_countplot(cols,plot_num):\n",
    "    fig, ax = plt.subplots(plot_num,2, figsize=(15, 25))\n",
    "    fig.subplots_adjust(hspace =1 , wspace=.1)\n",
    "    ax = ax.ravel()\n",
    "    for i in range(plot_num):\n",
    "        sns.countplot(rows_with_low_missing_values[cols[i]], ax=ax[i*2])\n",
    "        ax[i*2].set_title('rows_with_low_missing_values')\n",
    "        \n",
    "        sns.countplot(rows_with_high_missing_values[cols[i]], ax=ax[i*2+1])\n",
    "        ax[i*2+1].set_title('rows_with_high_missing_values')"
   ]
  },
  {
   "cell_type": "code",
   "execution_count": 13,
   "metadata": {},
   "outputs": [
    {
     "data": {
      "image/png": "[encoded data removed]",
      "text/plain": [
       "<matplotlib.figure.Figure at 0x7f69bd4fb4e0>"
      ]
     },
     "metadata": {
      "needs_background": "light"
     },
     "output_type": "display_data"
    }
   ],
   "source": [
    "#plot atleast 5 columns from both subsets\n",
    "draw_countplot(rows_with_low_missing_values.columns,5)"
   ]
  },
  {
   "cell_type": "code",
   "execution_count": 14,
   "metadata": {},
   "outputs": [
    {
     "data": {
      "text/plain": [
       "(684502, 79)"
      ]
     },
     "execution_count": 14,
     "metadata": {},
     "output_type": "execute_result"
    }
   ],
   "source": [
    "# per the recommendation, drop data with few or no missing values based on the threshild\n",
    "#azdias.dropna(inplace=True)\n",
    "row_wise_missing_count = azdias.apply(lambda x: len(azdias.columns) - x.count(), axis=1)\n",
    "azdias = azdias.loc[row_wise_missing_count.values <= 3, :]\n",
    "azdias.shape"
   ]
  },
  {
   "cell_type": "markdown",
   "metadata": {},
   "source": [
    "#### Discussion 1.1.3: Assess Missing Data in Each Row\n",
    "\n",
    "\n",
    "\n",
    "75% of rows have 3 or less missing values, so I divided the data set into two subsets, one with < 3 missing values and the other with > 3 missing values. From the plotted charts, the distribution looks similar for both subsets for some columns while thyey differ to a large extent in some columns. For instance, ANREDE_KZ and ALTERSKATEGORIE_GROB to some extent has similar distribution. For the rest of the plotted columns, the distribution varies significantly.  Though I feel dropping the rows with lots of missing data might have an effect on the model fucntionality, I went and dropped the rows that had > 3 missing value counts.\n"
   ]
  },
  {
   "cell_type": "markdown",
   "metadata": {},
   "source": [
    "### Step 1.2: Select and Re-Encode Features\n",
    "\n",
    "Checking for missing data isn't the only way in which you can prepare a dataset for analysis. Since the unsupervised learning techniques to be used will only work on data that is encoded numerically, you need to make a few encoding changes or additional assumptions to be able to make progress. In addition, while almost all of the values in the dataset are encoded using numbers, not all of them represent numeric values. Check the third column of the feature summary (`feat_info`) for a summary of types of measurement.\n",
    "- For numeric and interval data, these features can be kept without changes.\n",
    "- Most of the variables in the dataset are ordinal in nature. While ordinal values may technically be non-linear in spacing, make the simplifying assumption that the ordinal variables can be treated as being interval in nature (that is, kept without any changes).\n",
    "- Special handling may be necessary for the remaining two variable types: categorical, and 'mixed'.\n",
    "\n",
    "In the first two parts of this sub-step, you will perform an investigation of the categorical and mixed-type features and make a decision on each of them, whether you will keep, drop, or re-encode each. Then, in the last part, you will create a new data frame with only the selected and engineered columns.\n",
    "\n",
    "Data wrangling is often the trickiest part of the data analysis process, and there's a lot of it to be done here. But stick with it: once you're done with this step, you'll be ready to get to the machine learning parts of the project!"
   ]
  },
  {
   "cell_type": "code",
   "execution_count": 15,
   "metadata": {},
   "outputs": [
    {
     "data": {
      "text/plain": [
       "ordinal        49\n",
       "categorical    18\n",
       "numeric         6\n",
       "mixed           6\n",
       "Name: type, dtype: int64"
      ]
     },
     "execution_count": 15,
     "metadata": {},
     "output_type": "execute_result"
    }
   ],
   "source": [
    "# How many features are there of each data type?\n",
    "# Drop the outlier columns from feature data set\n",
    "feat_info = feat_info[~feat_info.attribute.isin(cols_with_high_missing_vals)]\n",
    "\n",
    "feat_info.type.value_counts()\n"
   ]
  },
  {
   "cell_type": "markdown",
   "metadata": {},
   "source": [
    "#### Step 1.2.1: Re-Encode Categorical Features\n",
    "\n",
    "For categorical data, you would ordinarily need to encode the levels as dummy variables. Depending on the number of categories, perform one of the following:\n",
    "- For binary (two-level) categoricals that take numeric values, you can keep them without needing to do anything.\n",
    "- There is one binary variable that takes on non-numeric values. For this one, you need to re-encode the values as numbers or create a dummy variable.\n",
    "- For multi-level categoricals (three or more values), you can choose to encode the values using multiple dummy variables (e.g. via [OneHotEncoder](http://scikit-learn.org/stable/modules/generated/sklearn.preprocessing.OneHotEncoder.html)), or (to keep things straightforward) just drop them from the analysis. As always, document your choices in the Discussion section."
   ]
  },
  {
   "cell_type": "code",
   "execution_count": 16,
   "metadata": {},
   "outputs": [
    {
     "name": "stdout",
     "output_type": "stream",
     "text": [
      "# Categorical features with Binary values that do not need encoding: ['ANREDE_KZ', 'GREEN_AVANTGARDE', 'SOHO_KZ', 'VERS_TYP']\n",
      "# Categorical features with Binary values that need encoding: ['OST_WEST_KZ']\n",
      "# Categorical features with non-binary values: ['CJT_GESAMTTYP', 'FINANZTYP', 'GFK_URLAUBERTYP', 'LP_FAMILIE_FEIN', 'LP_FAMILIE_GROB', 'LP_STATUS_FEIN', 'LP_STATUS_GROB', 'NATIONALITAET_KZ', 'SHOPPER_TYP', 'ZABEOTYP', 'GEBAEUDETYP', 'CAMEO_DEUG_2015', 'CAMEO_DEU_2015']\n"
     ]
    }
   ],
   "source": [
    "# Assess categorical variables: which are binary, which are multi-level, and\n",
    "# which one needs to be re-encoded?\n",
    "\n",
    "# extract the categorical variables and find which ones have binary values\n",
    "categorical_variables = feat_info.query('type == \"categorical\"').attribute\n",
    "categorical_and_binary_variables_noEncode= []\n",
    "categorical_and_binary_variables_encode= []\n",
    "categorical_and_non_binary_variables= []\n",
    "for col in categorical_variables:\n",
    "    value_count = azdias[col].value_counts()\n",
    "    if len(value_count) ==2:\n",
    "        if azdias[col].dtypes == object:\n",
    "            categorical_and_binary_variables_encode.append(col)\n",
    "        else:\n",
    "            categorical_and_binary_variables_noEncode.append(col)\n",
    "    else:\n",
    "        categorical_and_non_binary_variables.append(col)\n",
    "print('# Categorical features with Binary values that do not need encoding:', categorical_and_binary_variables_noEncode)\n",
    "print('# Categorical features with Binary values that need encoding:', categorical_and_binary_variables_encode)\n",
    "print('# Categorical features with non-binary values:', categorical_and_non_binary_variables)"
   ]
  },
  {
   "cell_type": "code",
   "execution_count": 17,
   "metadata": {},
   "outputs": [
    {
     "name": "stdout",
     "output_type": "stream",
     "text": [
      "before encding:  W    534902\n",
      "O    149600\n",
      "Name: OST_WEST_KZ, dtype: int64\n",
      "after encding:  1    534902\n",
      "0    149600\n",
      "Name: OST_WEST_KZ, dtype: int64\n"
     ]
    }
   ],
   "source": [
    "# Re-encode categorical variable(s) to be kept in the analysis.\n",
    "print('before encding: ', azdias['OST_WEST_KZ'].value_counts())\n",
    "azdias['OST_WEST_KZ'] = azdias['OST_WEST_KZ'].apply(lambda x: 0 if x == 'O'\n",
    "                                                                else 1 if x == 'W'\n",
    "                                                                else x)\n",
    "print('after encding: ', azdias['OST_WEST_KZ'].value_counts())"
   ]
  },
  {
   "cell_type": "code",
   "execution_count": 18,
   "metadata": {},
   "outputs": [
    {
     "data": {
      "text/plain": [
       "(684502, 66)"
      ]
     },
     "execution_count": 18,
     "metadata": {},
     "output_type": "execute_result"
    }
   ],
   "source": [
    "#per the recommendation drop categorical columns with more than 2 values\n",
    "azdias.drop(categorical_and_non_binary_variables, axis=1, inplace=True)\n",
    "azdias.shape"
   ]
  },
  {
   "cell_type": "markdown",
   "metadata": {},
   "source": [
    "#### Discussion 1.2.1: Re-Encode Categorical Features\n",
    "\n",
    " Out of 18 categorical features, 5 were identified to have binary features. Out of this 5, one had non-numerical values and it was re-encoded. The rest of the 13 multi-level features were dropped based on the recommendation above. Depending on the results of further sections in this project, I might have to revisit this decision."
   ]
  },
  {
   "cell_type": "markdown",
   "metadata": {},
   "source": [
    "#### Step 1.2.2: Engineer Mixed-Type Features\n",
    "\n",
    "There are a handful of features that are marked as \"mixed\" in the feature summary that require special treatment in order to be included in the analysis. There are two in particular that deserve attention; the handling of the rest are up to your own choices:\n",
    "- \"PRAEGENDE_JUGENDJAHRE\" combines information on three dimensions: generation by decade, movement (mainstream vs. avantgarde), and nation (east vs. west). While there aren't enough levels to disentangle east from west, you should create two new variables to capture the other two dimensions: an interval-type variable for decade, and a binary variable for movement.\n",
    "- \"CAMEO_INTL_2015\" combines information on two axes: wealth and life stage. Break up the two-digit codes by their 'tens'-place and 'ones'-place digits into two new ordinal variables (which, for the purposes of this project, is equivalent to just treating them as their raw numeric values).\n",
    "- If you decide to keep or engineer new features around the other mixed-type features, make sure you note your steps in the Discussion section.\n",
    "\n",
    "Be sure to check `Data_Dictionary.md` for the details needed to finish these tasks."
   ]
  },
  {
   "cell_type": "code",
   "execution_count": 19,
   "metadata": {},
   "outputs": [
    {
     "data": {
      "text/plain": [
       "15      LP_LEBENSPHASE_FEIN\n",
       "16      LP_LEBENSPHASE_GROB\n",
       "22    PRAEGENDE_JUGENDJAHRE\n",
       "56                 WOHNLAGE\n",
       "59          CAMEO_INTL_2015\n",
       "79              PLZ8_BAUMAX\n",
       "Name: attribute, dtype: object"
      ]
     },
     "execution_count": 19,
     "metadata": {},
     "output_type": "execute_result"
    }
   ],
   "source": [
    "mixed_variables = feat_info.query('type == \"mixed\"').attribute\n",
    "mixed_variables"
   ]
  },
  {
   "cell_type": "code",
   "execution_count": 20,
   "metadata": {},
   "outputs": [],
   "source": [
    "# Investigate \"PRAEGENDE_JUGENDJAHRE\" and engineer two new variables.\n",
    "\n",
    "#azdias['PRAEGENDE_JUGENDJAHRE'].value_counts()\n",
    "#indicators that tell mainstream or avantgarde\n",
    "mainstream_indicator = [1,3,5,8,10,12,14]\n",
    "avantgarde_indicator = [2,4,6,7,9,11,13,15]\n",
    "#two rows per decade except for 80s, one for mainstream and another for avantgrade according to data dictionary. \n",
    "decade_40s = [1,2]\n",
    "decade_50s = [3,4]\n",
    "decade_60s = [5,6,7]\n",
    "decade_70s = [8,9]\n",
    "decade_80s = [10,11,12,13]\n",
    "decade_90s = [14,15]\n",
    "#one new feature variable that indicates mainstream vs avantgarde\n",
    "azdias['MAINSTREAM_AVANTGARDE'] = azdias['PRAEGENDE_JUGENDJAHRE'].apply(lambda x: 1 if x in avantgarde_indicator\n",
    "                                                                                    else 2 if x in mainstream_indicator\n",
    "                                                                                    else 0)\n",
    "#second new feature variable that indicates the decade  \n",
    "azdias['DECADE'] = azdias['PRAEGENDE_JUGENDJAHRE'].apply(lambda x: 40 if x in decade_40s\n",
    "                                                                      else 50 if x in decade_50s\n",
    "                                                                      else 60 if x in decade_60s\n",
    "                                                                      else 70 if x in decade_70s\n",
    "                                                                      else 80 if x in decade_80s\n",
    "                                                                      else 90 if x in decade_90s\n",
    "                                                                      else 0)\n"
   ]
  },
  {
   "cell_type": "code",
   "execution_count": 21,
   "metadata": {},
   "outputs": [],
   "source": [
    "# Investigate \"CAMEO_INTL_2015\" and engineer two new variables.\n",
    "#azdias['CAMEO_INTL_2015'].value_counts()\n",
    "\n",
    "#per the data dictionary, the first digit in the value seem to indicate financial status (eg: wealthy,\n",
    "#prosperous,comfortabl etc) and the second digit indicates the type of household. \n",
    "\n",
    "#creating first new feature based on financial status\n",
    "azdias['FINANCIAL_STATUS'] = azdias['CAMEO_INTL_2015'].apply(lambda x: x[0] if not pd.isnull(x) else x)\n",
    "#creating second new feature based on family type    \n",
    "azdias['FAMILY_TYPE'] = azdias['CAMEO_INTL_2015'].apply(lambda x: x[1] if not pd.isnull(x) else x)\n",
    "#azdias['FINANCIAL_STATUS'].value_counts()\n",
    "#azdias['FAMILY_TYPE'].value_counts()"
   ]
  },
  {
   "cell_type": "markdown",
   "metadata": {},
   "source": [
    "#### Discussion 1.2.2: Engineer Mixed-Type Features\n",
    "\n",
    "In this section, 6 mixed type feartures were identified. Out of 6, two features 'PRAEGENDE_JUGENDJAHRE' and 'CAMEO_INTL_2015' were regnineered into seprate fatures capturing the original essence of the feature. Per the data dictionary, values of PRAEGENDE_JUGENDJAHRE indicated mainstream or avantgarde and the decade. So, that feature was broken into MAINSTREAM_AVANTGARDE and DECADE. Per the recommendation, as there aren't enough levels to disentangle east from west, it was dropped. Likewise, I re-encoded 'CAMEO_INTL_2015' into two features: 'FINANCIAL_STATUS' and 'FAMILY_TYPE' based on the tens and ones digits in the original value, as the first digit in the value seem to indicate financial status (eg: wealthy,prosperous,comfortabl etc) and the second digit indicates the type of household."
   ]
  },
  {
   "cell_type": "markdown",
   "metadata": {},
   "source": [
    "#### Step 1.2.3: Complete Feature Selection\n",
    "\n",
    "In order to finish this step up, you need to make sure that your data frame now only has the columns that you want to keep. To summarize, the dataframe should consist of the following:\n",
    "- All numeric, interval, and ordinal type columns from the original dataset.\n",
    "- Binary categorical features (all numerically-encoded).\n",
    "- Engineered features from other multi-level categorical features and mixed features.\n",
    "\n",
    "Make sure that for any new columns that you have engineered, that you've excluded the original columns from the final dataset. Otherwise, their values will interfere with the analysis later on the project. For example, you should not keep \"PRAEGENDE_JUGENDJAHRE\", since its values won't be useful for the algorithm: only the values derived from it in the engineered features you created should be retained. As a reminder, your data should only be from **the subset with few or no missing values**."
   ]
  },
  {
   "cell_type": "code",
   "execution_count": 22,
   "metadata": {},
   "outputs": [],
   "source": [
    "# If there are other re-engineering tasks you need to perform, make sure you\n",
    "# take care of them here. (Dealing with missing data will come in step 2.1.)\n",
    "\n"
   ]
  },
  {
   "cell_type": "code",
   "execution_count": 23,
   "metadata": {},
   "outputs": [
    {
     "data": {
      "text/plain": [
       "(684502, 64)"
      ]
     },
     "execution_count": 23,
     "metadata": {},
     "output_type": "execute_result"
    }
   ],
   "source": [
    "# Do whatever you need to in order to ensure that the dataframe only contains\n",
    "# the columns that should be passed to the algorithm functions.\n",
    "\n",
    "#now that the two new features are created based on the original feature, drop the original ones and the rest of the mixed features\n",
    "azdias.drop(mixed_variables, axis=1, inplace=True)\n",
    "azdias.shape"
   ]
  },
  {
   "cell_type": "markdown",
   "metadata": {},
   "source": [
    "### Step 1.3: Create a Cleaning Function\n",
    "\n",
    "Even though you've finished cleaning up the general population demographics data, it's important to look ahead to the future and realize that you'll need to perform the same cleaning steps on the customer demographics data. In this substep, complete the function below to execute the main feature selection, encoding, and re-engineering steps you performed above. Then, when it comes to looking at the customer data in Step 3, you can just run this function on that DataFrame to get the trimmed dataset in a single step."
   ]
  },
  {
   "cell_type": "code",
   "execution_count": 48,
   "metadata": {},
   "outputs": [],
   "source": [
    "def clean_data(df):\n",
    "    \"\"\"\n",
    "    Perform feature trimming, re-encoding, and engineering for demographics\n",
    "    data\n",
    "    \n",
    "    INPUT: Demographics DataFrame\n",
    "    OUTPUT: Trimmed and cleaned demographics DataFrame\n",
    "    \"\"\"\n",
    "    \n",
    "    # Put in code here to execute all main cleaning steps:\n",
    "    # convert missing value codes into NaNs, ...\n",
    "    \n",
    "    #browse thru feat_info missing/unknown column, convert to float and use that to compare\n",
    "    #each column in the df and convert the matching rows to NaN\n",
    "    feat_info = pd.read_csv('AZDIAS_Feature_Summary.csv', delimiter=';')\n",
    "    for index in feat_info.index:\n",
    "        #get rid of the square braces\n",
    "        feat_info.loc[index,'missing_or_unknown'] = feat_info.loc[index,'missing_or_unknown'].strip('[]').split(',')\n",
    "        #print (feat_info.loc[index,'missing_or_unknown'])\n",
    "        #parse and convert the individual values in missing_or_unknown array into float\n",
    "        for val in range(len(feat_info.loc[index,'missing_or_unknown'])):\n",
    "            try:\n",
    "                feat_info.loc[index,'missing_or_unknown'][val] = float(feat_info.loc[index,'missing_or_unknown'][val])\n",
    "            except:\n",
    "                continue\n",
    "        #print (feat_info.loc[index,'missing_or_unknown'])\n",
    "        #compare with the corresponding column in azdias and replace matching rows with NaN\n",
    "        df.loc[:,(feat_info.loc[index, 'attribute'])].replace(feat_info.loc[index,'missing_or_unknown'], np.nan, inplace=True)\n",
    "\n",
    "    # remove selected columns and rows, ...define variables\n",
    "    outlier_features_to_drop = ['AGER_TYP', 'GEBURTSJAHR', 'TITEL_KZ', 'ALTER_HH', 'KK_KUNDENTYP', 'KBA05_BAUMAX']\n",
    "    missing_val_row_threshold = 3\n",
    "    categorical_features_to_drop = ['CJT_GESAMTTYP', 'FINANZTYP', 'GFK_URLAUBERTYP', \n",
    "                                  'LP_FAMILIE_FEIN', 'LP_FAMILIE_GROB', 'LP_STATUS_FEIN', 'LP_STATUS_GROB',\n",
    "                                  'NATIONALITAET_KZ', 'SHOPPER_TYP', 'ZABEOTYP', 'GEBAEUDETYP', \n",
    "                                  'CAMEO_DEUG_2015', 'CAMEO_DEU_2015']\n",
    "    mixed_fearures_to_drop = ['LP_LEBENSPHASE_FEIN','LP_LEBENSPHASE_GROB','PRAEGENDE_JUGENDJAHRE',\n",
    "                            'WOHNLAGE','CAMEO_INTL_2015','PLZ8_BAUMAX']\n",
    "    \n",
    "    #drop outlier features\n",
    "    df = df.drop(outlier_features_to_drop, axis=1)\n",
    "    \n",
    "    #drop rows with high missing values\n",
    "    row_wise_missing_count = df.apply(lambda x: len(df.columns) - x.count(), axis=1)\n",
    "    df = df.loc[row_wise_missing_count.values <= missing_val_row_threshold, :]\n",
    "    \n",
    "    #drop categorical features with non-binary values\n",
    "    df = df.drop(categorical_features_to_drop, axis=1)\n",
    "    \n",
    "    # select, re-encode, and engineer column values.\n",
    "    df['OST_WEST_KZ'] = df['OST_WEST_KZ'].apply(lambda x: 0 if x == 'O'\n",
    "                                                     else 1 if x == 'W'\n",
    "                                                     else x)\n",
    "    \n",
    "    #engineer new features from PRAEGENDE_JUGENDJAHRE\n",
    "    mainstream_indicator = [1,3,5,8,10,12,14]\n",
    "    avantgarde_indicator = [2,4,6,7,9,11,13,15]\n",
    "    #two rows per decade except for 80s, one for mainstream and another for avantgrade according to data dictionary. \n",
    "    decade_40s = [1,2]\n",
    "    decade_50s = [3,4]\n",
    "    decade_60s = [5,6,7]\n",
    "    decade_70s = [8,9]\n",
    "    decade_80s = [10,11,12,13]\n",
    "    decade_90s = [14,15]\n",
    "    #one new feature variable that indicates mainstream vs avantgarde\n",
    "    df['MAINSTREAM_AVANTGARDE'] = df['PRAEGENDE_JUGENDJAHRE'].apply(lambda x: 1 if x in avantgarde_indicator\n",
    "                                                                                else 2 if x in mainstream_indicator\n",
    "                                                                                else 0)\n",
    "    #second new feature variable that indicates the decade  \n",
    "    df['DECADE'] = df['PRAEGENDE_JUGENDJAHRE'].apply(lambda x: 40 if x in decade_40s\n",
    "                                                                  else 50 if x in decade_50s\n",
    "                                                                  else 60 if x in decade_60s\n",
    "                                                                  else 70 if x in decade_70s\n",
    "                                                                  else 80 if x in decade_80s\n",
    "                                                                  else 90 if x in decade_90s\n",
    "                                                                  else 0)\n",
    "    \n",
    "    \n",
    "     #engineer new features from CAMEO_INTL_2015\n",
    "    df['FINANCIAL_STATUS'] = df['CAMEO_INTL_2015'].apply(lambda x: x[0] if not pd.isnull(x) else x)\n",
    "    #creating second new feature based on family type    \n",
    "    df['FAMILY_TYPE'] = df['CAMEO_INTL_2015'].apply(lambda x: x[1] if not pd.isnull(x) else x)\n",
    "    \n",
    "    # Return the cleaned dataframe.\n",
    "    #drop mixed features with non-binary values\n",
    "    df = df.drop(mixed_fearures_to_drop, axis=1)\n",
    "    return df"
   ]
  },
  {
   "cell_type": "markdown",
   "metadata": {},
   "source": [
    "## Step 2: Feature Transformation\n",
    "\n",
    "### Step 2.1: Apply Feature Scaling\n",
    "\n",
    "Before we apply dimensionality reduction techniques to the data, we need to perform feature scaling so that the principal component vectors are not influenced by the natural differences in scale for features. Starting from this part of the project, you'll want to keep an eye on the [API reference page for sklearn](http://scikit-learn.org/stable/modules/classes.html) to help you navigate to all of the classes and functions that you'll need. In this substep, you'll need to check the following:\n",
    "\n",
    "- sklearn requires that data not have missing values in order for its estimators to work properly. So, before applying the scaler to your data, make sure that you've cleaned the DataFrame of the remaining missing values. This can be as simple as just removing all data points with missing data, or applying an [Imputer](http://scikit-learn.org/stable/modules/generated/sklearn.preprocessing.Imputer.html) to replace all missing values. You might also try a more complicated procedure where you temporarily remove missing values in order to compute the scaling parameters before re-introducing those missing values and applying imputation. Think about how much missing data you have and what possible effects each approach might have on your analysis, and justify your decision in the discussion section below.\n",
    "- For the actual scaling function, a [StandardScaler](http://scikit-learn.org/stable/modules/generated/sklearn.preprocessing.StandardScaler.html) instance is suggested, scaling each feature to mean 0 and standard deviation 1.\n",
    "- For these classes, you can make use of the `.fit_transform()` method to both fit a procedure to the data as well as apply the transformation to the data at the same time. Don't forget to keep the fit sklearn objects handy, since you'll be applying them to the customer demographics data towards the end of the project."
   ]
  },
  {
   "cell_type": "code",
   "execution_count": 25,
   "metadata": {},
   "outputs": [],
   "source": [
    "# If you've not yet cleaned the dataset of all NaN values, then investigate and\n",
    "# do that now.\n",
    "imputer = Imputer()\n",
    "azdias_imputed = imputer.fit_transform(azdias)"
   ]
  },
  {
   "cell_type": "code",
   "execution_count": 26,
   "metadata": {},
   "outputs": [
    {
     "data": {
      "text/plain": [
       "(684502, 64)"
      ]
     },
     "execution_count": 26,
     "metadata": {},
     "output_type": "execute_result"
    }
   ],
   "source": [
    "# Apply feature scaling to the general population demographics data.\n",
    "scaler = StandardScaler()\n",
    "azdias_scaled = scaler.fit_transform(azdias_imputed)\n",
    "azdias_ready_for_PCA = pd.DataFrame(azdias_scaled, columns = azdias.columns)\n",
    "azdias_ready_for_PCA.shape"
   ]
  },
  {
   "cell_type": "markdown",
   "metadata": {},
   "source": [
    "### Discussion 2.1: Apply Feature Scaling\n",
    "\n",
    "As recommended an Imputer with default parameters to replace NaN (missing) values with the mean of each column. Then per the second recommendatio, a StandardScaler is used to scale each feature to mean 0 and standard deviation 1."
   ]
  },
  {
   "cell_type": "markdown",
   "metadata": {},
   "source": [
    "### Step 2.2: Perform Dimensionality Reduction\n",
    "\n",
    "On your scaled data, you are now ready to apply dimensionality reduction techniques.\n",
    "\n",
    "- Use sklearn's [PCA](http://scikit-learn.org/stable/modules/generated/sklearn.decomposition.PCA.html) class to apply principal component analysis on the data, thus finding the vectors of maximal variance in the data. To start, you should not set any parameters (so all components are computed) or set a number of components that is at least half the number of features (so there's enough features to see the general trend in variability).\n",
    "- Check out the ratio of variance explained by each principal component as well as the cumulative variance explained. Try plotting the cumulative or sequential values using matplotlib's [`plot()`](https://matplotlib.org/api/_as_gen/matplotlib.pyplot.plot.html) function. Based on what you find, select a value for the number of transformed features you'll retain for the clustering part of the project.\n",
    "- Once you've made a choice for the number of components to keep, make sure you re-fit a PCA instance to perform the decided-on transformation."
   ]
  },
  {
   "cell_type": "code",
   "execution_count": 27,
   "metadata": {},
   "outputs": [],
   "source": [
    "# Apply PCA to the data.\n",
    "pca = PCA()\n",
    "azdias_pca = pca.fit_transform(azdias_ready_for_PCA)"
   ]
  },
  {
   "cell_type": "code",
   "execution_count": 28,
   "metadata": {},
   "outputs": [],
   "source": [
    "#udacity function\n",
    "def scree_plot(pca):\n",
    "    '''\n",
    "    Creates a scree plot associated with the principal components \n",
    "    \n",
    "    INPUT: pca - the result of instantian of PCA in scikit learn\n",
    "            \n",
    "    OUTPUT:\n",
    "            None\n",
    "    '''\n",
    "    num_components = len(pca.explained_variance_ratio_)\n",
    "    ind = np.arange(num_components)\n",
    "    vals = pca.explained_variance_ratio_\n",
    " \n",
    "    plt.figure(figsize=(22, 6))\n",
    "    ax = plt.subplot(111)\n",
    "    cumvals = np.cumsum(vals)\n",
    "    ax.bar(ind, vals)\n",
    "    ax.plot(ind, cumvals)\n",
    "    for i in range(num_components):\n",
    "        ax.annotate(r\"%s%%\" % ((str(vals[i]*100)[:4])), (ind[i]+0.2, vals[i]), va=\"bottom\", ha=\"center\", fontsize=12)\n",
    " \n",
    "    ax.xaxis.set_tick_params(width=0)\n",
    "    ax.yaxis.set_tick_params(width=2, length=12)\n",
    " \n",
    "    ax.set_xlabel(\"Principal Component\")\n",
    "    ax.set_ylabel(\"Variance Explained (%)\")\n",
    "    plt.title('Explained Variance Per Principal Component')\n",
    "    "
   ]
  },
  {
   "cell_type": "code",
   "execution_count": 29,
   "metadata": {},
   "outputs": [
    {
     "data": {
      "image/png": "[encoded data removed]",
      "text/plain": [
       "<matplotlib.figure.Figure at 0x7f69bd1dbb70>"
      ]
     },
     "metadata": {
      "needs_background": "light"
     },
     "output_type": "display_data"
    }
   ],
   "source": [
    "# Investigate the variance accounted for by each principal component.\n",
    "scree_plot(pca)"
   ]
  },
  {
   "cell_type": "code",
   "execution_count": 30,
   "metadata": {},
   "outputs": [],
   "source": [
    "# Re-apply PCA to the data while selecting for number of components to retain.\n",
    "pca_40 = PCA(n_components=40)\n",
    "azdias_pca_40 = pca_40.fit_transform(azdias_ready_for_PCA)"
   ]
  },
  {
   "cell_type": "markdown",
   "metadata": {},
   "source": [
    "### Discussion 2.2: Perform Dimensionality Reduction\n",
    "\n",
    "\n",
    "The plot shows the variance explained falls alomost flat after 40 features and the cumulative explained variance almost becomes 1%. I feel going with 40 features will provide a good amount of variance for the model to come up with an effective targeting strategy."
   ]
  },
  {
   "cell_type": "markdown",
   "metadata": {},
   "source": [
    "### Step 2.3: Interpret Principal Components\n",
    "\n",
    "Now that we have our transformed principal components, it's a nice idea to check out the weight of each variable on the first few components to see if they can be interpreted in some fashion.\n",
    "\n",
    "As a reminder, each principal component is a unit vector that points in the direction of highest variance (after accounting for the variance captured by earlier principal components). The further a weight is from zero, the more the principal component is in the direction of the corresponding feature. If two features have large weights of the same sign (both positive or both negative), then increases in one tend expect to be associated with increases in the other. To contrast, features with different signs can be expected to show a negative correlation: increases in one variable should result in a decrease in the other.\n",
    "\n",
    "- To investigate the features, you should map each weight to their corresponding feature name, then sort the features according to weight. The most interesting features for each principal component, then, will be those at the beginning and end of the sorted list. Use the data dictionary document to help you understand these most prominent features, their relationships, and what a positive or negative value on the principal component might indicate.\n",
    "- You should investigate and interpret feature associations from the first three principal components in this substep. To help facilitate this, you should write a function that you can call at any time to print the sorted list of feature weights, for the *i*-th principal component. This might come in handy in the next step of the project, when you interpret the tendencies of the discovered clusters."
   ]
  },
  {
   "cell_type": "code",
   "execution_count": 31,
   "metadata": {},
   "outputs": [
    {
     "data": {
      "text/plain": [
       "[('ALTERSKATEGORIE_GROB', 0.25385286216040237),\n",
       " ('SEMIO_ERL', 0.22863663043378663),\n",
       " ('FINANZ_VORSORGER', 0.22255823804201819),\n",
       " ('SEMIO_LUST', 0.17857902455002078),\n",
       " ('RETOURTYP_BK_S', 0.16270474668092161),\n",
       " ('FINANZ_HAUSBAUER', 0.12374495621276525),\n",
       " ('SEMIO_KRIT', 0.11984642735997904),\n",
       " ('W_KEIT_KIND_HH', 0.11970214680262045),\n",
       " ('SEMIO_KAEM', 0.11223888558293631),\n",
       " ('PLZ8_ANTG3', 0.10392451357359118),\n",
       " ('EWDICHTE', 0.10000615283423839),\n",
       " ('PLZ8_ANTG4', 0.099612683953011802),\n",
       " ('ORTSGR_KLS9', 0.098857468547604632),\n",
       " ('ANREDE_KZ', 0.090071962760516933),\n",
       " ('FINANCIAL_STATUS', 0.082487486124099979),\n",
       " ('KBA05_ANTG4', 0.077986193924461336),\n",
       " ('ARBEIT', 0.072893867037935031),\n",
       " ('PLZ8_ANTG2', 0.070589496884354258),\n",
       " ('RELAT_AB', 0.069750029167188018),\n",
       " ('ANZ_HAUSHALTE_AKTIV', 0.068032224660149479),\n",
       " ('SEMIO_DOM', 0.067699813372920511),\n",
       " ('HH_EINKOMMEN_SCORE', 0.061166529508921395),\n",
       " ('WOHNDAUER_2008', 0.055360473188810495),\n",
       " ('FINANZ_MINIMALIST', 0.054082616876098166),\n",
       " ('KBA05_ANTG3', 0.0517666846220372),\n",
       " ('ANZ_HH_TITEL', 0.032160193414610835),\n",
       " ('VERS_TYP', 0.031577089143674998),\n",
       " ('REGIOTYP', 0.024584352459651421),\n",
       " ('PLZ8_HHZ', 0.015824693378249915),\n",
       " ('ANZ_TITEL', 0.007567977586460598),\n",
       " ('KKK', 0.0056747709039023739),\n",
       " ('SOHO_KZ', -0.0022715636741456216),\n",
       " ('FAMILY_TYPE', -0.0058719577167408261),\n",
       " ('MAINSTREAM_AVANTGARDE', -0.0064489848926003873),\n",
       " ('KBA05_ANTG2', -0.0078659093355136368),\n",
       " ('GREEN_AVANTGARDE', -0.019790794292734101),\n",
       " ('OST_WEST_KZ', -0.029015729590495348),\n",
       " ('KBA13_ANZAHL_PKW', -0.038247605913427019),\n",
       " ('MIN_GEBAEUDEJAHR', -0.042972826314773352),\n",
       " ('GEBAEUDETYP_RASTER', -0.048074472057055222),\n",
       " ('HEALTH_TYP', -0.055526221690884996),\n",
       " ('ANZ_PERSONEN', -0.065420474916280752),\n",
       " ('BALLRAUM', -0.065679670092791048),\n",
       " ('SEMIO_VERT', -0.071208309717524856),\n",
       " ('KONSUMNAEHE', -0.075894585907346573),\n",
       " ('PLZ8_GBZ', -0.079008363473691653),\n",
       " ('INNENSTADT', -0.081525545690300918),\n",
       " ('KBA05_ANTG1', -0.091945909596741121),\n",
       " ('KBA05_GBZ', -0.1011047679482469),\n",
       " ('PLZ8_ANTG1', -0.10158164091364101),\n",
       " ('SEMIO_SOZ', -0.1025101477658046),\n",
       " ('MOBI_REGIO', -0.10294871928227921),\n",
       " ('SEMIO_MAT', -0.15425801832453559),\n",
       " ('ONLINE_AFFINITAET', -0.16395639193400272),\n",
       " ('SEMIO_RAT', -0.16763800937548379),\n",
       " ('SEMIO_FAM', -0.17697678262120156),\n",
       " ('FINANZ_ANLEGER', -0.20156549231197032),\n",
       " ('SEMIO_KULT', -0.21712765740670595),\n",
       " ('FINANZ_UNAUFFAELLIGER', -0.22042557353694339),\n",
       " ('SEMIO_TRADV', -0.22521504391667876),\n",
       " ('FINANZ_SPARER', -0.22772903463422878),\n",
       " ('SEMIO_PFLICHT', -0.22813501102541353),\n",
       " ('DECADE', -0.23934031616841916),\n",
       " ('SEMIO_REL', -0.25819111471608713)]"
      ]
     },
     "execution_count": 31,
     "metadata": {},
     "output_type": "execute_result"
    }
   ],
   "source": [
    "# Map weights for the first principal component to corresponding feature names\n",
    "# and then print the linked values, sorted by weight.\n",
    "# HINT: Try defining a function here or in a new cell that you can reuse in the\n",
    "# other cells.\n",
    "\n",
    "def pca_component_weights(pca, i):\n",
    "    weight_map = {}\n",
    "    for counter, feature in enumerate(azdias.columns):\n",
    "        weight_map[feature] = pca.components_[i][counter]\n",
    "    sorted_weights = sorted(weight_map.items(), key=operator.itemgetter(1), reverse=True)\n",
    "    \n",
    "    return sorted_weights\n",
    "\n",
    "pca_component_weights(pca_40,1)"
   ]
  },
  {
   "cell_type": "code",
   "execution_count": 32,
   "metadata": {},
   "outputs": [
    {
     "data": {
      "text/plain": [
       "[('SEMIO_VERT', 0.34815560346424207),\n",
       " ('SEMIO_SOZ', 0.26321005528901281),\n",
       " ('SEMIO_FAM', 0.25104620168194836),\n",
       " ('SEMIO_KULT', 0.23232854526911784),\n",
       " ('FINANZ_MINIMALIST', 0.15822223572768096),\n",
       " ('RETOURTYP_BK_S', 0.11595875942458629),\n",
       " ('FINANZ_VORSORGER', 0.099957631379329379),\n",
       " ('W_KEIT_KIND_HH', 0.093060207091229391),\n",
       " ('ALTERSKATEGORIE_GROB', 0.084153159737781882),\n",
       " ('SEMIO_REL', 0.079449121666957251),\n",
       " ('SEMIO_LUST', 0.075330577898090362),\n",
       " ('SEMIO_MAT', 0.052066020189199522),\n",
       " ('GREEN_AVANTGARDE', 0.049449228120982472),\n",
       " ('EWDICHTE', 0.044728379687714273),\n",
       " ('ORTSGR_KLS9', 0.044509030090957837),\n",
       " ('PLZ8_ANTG4', 0.042934957221371473),\n",
       " ('PLZ8_ANTG3', 0.042112202464130555),\n",
       " ('WOHNDAUER_2008', 0.035589845701085913),\n",
       " ('ARBEIT', 0.030369440226569025),\n",
       " ('RELAT_AB', 0.029031196804877989),\n",
       " ('PLZ8_ANTG2', 0.028369164559261646),\n",
       " ('KBA05_ANTG4', 0.028060052785491393),\n",
       " ('ANZ_HAUSHALTE_AKTIV', 0.025654565459526987),\n",
       " ('FINANCIAL_STATUS', 0.023714147386862242),\n",
       " ('VERS_TYP', 0.021807618641215672),\n",
       " ('ANZ_HH_TITEL', 0.014120968160755133),\n",
       " ('ANZ_TITEL', 0.010460948047580023),\n",
       " ('PLZ8_HHZ', 0.0058158452384647879),\n",
       " ('KBA05_ANTG3', 0.0054663903519370166),\n",
       " ('SOHO_KZ', 0.00026251448794892431),\n",
       " ('ANZ_PERSONEN', -0.0053962879791534021),\n",
       " ('REGIOTYP', -0.005793746493367842),\n",
       " ('FAMILY_TYPE', -0.0075337946290825299),\n",
       " ('OST_WEST_KZ', -0.011043004505362337),\n",
       " ('KBA05_ANTG2', -0.011316738320101027),\n",
       " ('MIN_GEBAEUDEJAHR', -0.013447134916391905),\n",
       " ('HEALTH_TYP', -0.014233910499731569),\n",
       " ('KKK', -0.016379860986834756),\n",
       " ('KBA13_ANZAHL_PKW', -0.020307863859718799),\n",
       " ('KBA05_ANTG1', -0.021511531877902508),\n",
       " ('HH_EINKOMMEN_SCORE', -0.023982069350797094),\n",
       " ('KBA05_GBZ', -0.025950100414920577),\n",
       " ('MOBI_REGIO', -0.028521427554923807),\n",
       " ('GEBAEUDETYP_RASTER', -0.029803631648113102),\n",
       " ('BALLRAUM', -0.03387202037269043),\n",
       " ('PLZ8_GBZ', -0.034815415065779072),\n",
       " ('KONSUMNAEHE', -0.036911032891688005),\n",
       " ('INNENSTADT', -0.041114785407328484),\n",
       " ('PLZ8_ANTG1', -0.042623128328651047),\n",
       " ('FINANZ_HAUSBAUER', -0.046279422926398958),\n",
       " ('MAINSTREAM_AVANTGARDE', -0.054701130883191292),\n",
       " ('ONLINE_AFFINITAET', -0.056723152643663441),\n",
       " ('SEMIO_PFLICHT', -0.076932975170352955),\n",
       " ('SEMIO_TRADV', -0.088204859724763912),\n",
       " ('FINANZ_UNAUFFAELLIGER', -0.093635759540855026),\n",
       " ('FINANZ_SPARER', -0.10318179674097515),\n",
       " ('DECADE', -0.10513087147907807),\n",
       " ('SEMIO_ERL', -0.1699503236213635),\n",
       " ('FINANZ_ANLEGER', -0.18875972455991324),\n",
       " ('SEMIO_RAT', -0.21712140731929233),\n",
       " ('SEMIO_KRIT', -0.26916733321775077),\n",
       " ('SEMIO_DOM', -0.31334001219829588),\n",
       " ('SEMIO_KAEM', -0.33777942176000003),\n",
       " ('ANREDE_KZ', -0.3686238205191863)]"
      ]
     },
     "execution_count": 32,
     "metadata": {},
     "output_type": "execute_result"
    }
   ],
   "source": [
    "# Map weights for the second principal component to corresponding feature names\n",
    "# and then print the linked values, sorted by weight.\n",
    "\n",
    "pca_component_weights(pca_40,2)"
   ]
  },
  {
   "cell_type": "code",
   "execution_count": 33,
   "metadata": {},
   "outputs": [
    {
     "data": {
      "text/plain": [
       "[('GREEN_AVANTGARDE', 0.39392209505277453),\n",
       " ('EWDICHTE', 0.26279929827566201),\n",
       " ('ORTSGR_KLS9', 0.24752548532162091),\n",
       " ('PLZ8_HHZ', 0.15085851459875119),\n",
       " ('ONLINE_AFFINITAET', 0.13617345174484527),\n",
       " ('OST_WEST_KZ', 0.1221725071728941),\n",
       " ('SEMIO_DOM', 0.11666766442633635),\n",
       " ('PLZ8_ANTG2', 0.10595015211910339),\n",
       " ('ANZ_PERSONEN', 0.10078620116360855),\n",
       " ('PLZ8_ANTG3', 0.097638291648433975),\n",
       " ('KBA05_ANTG1', 0.09431164451347171),\n",
       " ('FINANZ_UNAUFFAELLIGER', 0.094229183493665603),\n",
       " ('RELAT_AB', 0.088453276961110119),\n",
       " ('PLZ8_ANTG4', 0.080888606894794587),\n",
       " ('SEMIO_KAEM', 0.076885437594711434),\n",
       " ('SEMIO_TRADV', 0.06646148203491771),\n",
       " ('KBA13_ANZAHL_PKW', 0.062689422595666996),\n",
       " ('FAMILY_TYPE', 0.062662911741428087),\n",
       " ('FINANZ_MINIMALIST', 0.062258685946499095),\n",
       " ('SEMIO_RAT', 0.05833609373729113),\n",
       " ('MOBI_REGIO', 0.056952914329118871),\n",
       " ('ANZ_TITEL', 0.052897253474694136),\n",
       " ('KBA05_GBZ', 0.046464547458313785),\n",
       " ('PLZ8_GBZ', 0.045836162617819989),\n",
       " ('ANZ_HH_TITEL', 0.043634697640965017),\n",
       " ('ARBEIT', 0.040741876857697541),\n",
       " ('ANREDE_KZ', 0.038251455597757014),\n",
       " ('DECADE', 0.033420445375412708),\n",
       " ('SEMIO_MAT', 0.026053346419812728),\n",
       " ('SEMIO_PFLICHT', 0.023233099656383361),\n",
       " ('VERS_TYP', 0.015859073368164188),\n",
       " ('SEMIO_KRIT', 0.012789155757319504),\n",
       " ('WOHNDAUER_2008', 0.0078217231970929123),\n",
       " ('RETOURTYP_BK_S', 0.0075223344740422814),\n",
       " ('SOHO_KZ', 0.0017516491047839023),\n",
       " ('HEALTH_TYP', 0.0017061124279541472),\n",
       " ('SEMIO_LUST', 0.0010604397674724884),\n",
       " ('KBA05_ANTG2', 0.00066420983656127004),\n",
       " ('SEMIO_SOZ', -0.00026886569623049239),\n",
       " ('SEMIO_REL', -0.00044908663708447709),\n",
       " ('FINANZ_SPARER', -0.00053024283921512816),\n",
       " ('SEMIO_VERT', -0.012800292904512209),\n",
       " ('FINANZ_VORSORGER', -0.01700668380648207),\n",
       " ('SEMIO_FAM', -0.018707755147690061),\n",
       " ('KBA05_ANTG4', -0.022496439588401536),\n",
       " ('SEMIO_ERL', -0.02385878664981458),\n",
       " ('ANZ_HAUSHALTE_AKTIV', -0.02486594870020269),\n",
       " ('SEMIO_KULT', -0.032486455584555603),\n",
       " ('ALTERSKATEGORIE_GROB', -0.044323932158300994),\n",
       " ('PLZ8_ANTG1', -0.046725433434760204),\n",
       " ('MIN_GEBAEUDEJAHR', -0.05402892071846916),\n",
       " ('KBA05_ANTG3', -0.079098220812354403),\n",
       " ('W_KEIT_KIND_HH', -0.087478753197041917),\n",
       " ('GEBAEUDETYP_RASTER', -0.092601027918823797),\n",
       " ('FINANZ_HAUSBAUER', -0.10733264760419728),\n",
       " ('FINANZ_ANLEGER', -0.13020351490038007),\n",
       " ('FINANCIAL_STATUS', -0.13082062208910733),\n",
       " ('KONSUMNAEHE', -0.15378745048290976),\n",
       " ('REGIOTYP', -0.21623313433257527),\n",
       " ('INNENSTADT', -0.22113470690404421),\n",
       " ('BALLRAUM', -0.23966787108802787),\n",
       " ('HH_EINKOMMEN_SCORE', -0.25827354485686654),\n",
       " ('KKK', -0.28203797438650247),\n",
       " ('MAINSTREAM_AVANTGARDE', -0.369103886518452)]"
      ]
     },
     "execution_count": 33,
     "metadata": {},
     "output_type": "execute_result"
    }
   ],
   "source": [
    "# Map weights for the third principal component to corresponding feature names\n",
    "# and then print the linked values, sorted by weight.\n",
    "pca_component_weights(pca_40,3)"
   ]
  },
  {
   "cell_type": "markdown",
   "metadata": {},
   "source": [
    "### Discussion 2.3: Interpret Principal Components\n",
    "\n",
    "#### Feature 1:\n",
    "##### First 5 Positves:\n",
    "ALTERSKATEGORIE_GROB - Estimated age based on given name analysis\n",
    "SEMIO_ERL - personality, event-oriented\n",
    "FINANZ_VORSORGER - financial topology (be prepared)\n",
    "SEMIO_LUST - personality, sensual minded\n",
    "RETOURTYP_BK_S - Returner type, likely or unlikely to return purchases\n",
    "\n",
    "##### First 5 Negatives:\n",
    "SEMIO_TRADV - personality, traditional minded\n",
    "FINANZ_SPARER - financial topology - money saver\n",
    "SEMIO_PFLICHT -  personality, dutiful\n",
    "DECADE - newly engineered feature, year of birth - high -ve means older\n",
    "SEMIO_REL - personality, religious \n",
    "\n",
    "This feature seems to focus on a group described via age, sensual and event oriented individuals who would like to be prepared financially for situations.  Older savers with tranditional and religious mindset might not be the popualtion to target.  \n",
    "\n",
    "#### Feature 2:\n",
    "##### First 5 Positves:\n",
    "SEMIO_VERT - personality, dreamful\n",
    "SEMIO_SOZ - personality, socially minded\n",
    "SEMIO_FAM -personality, family minded\n",
    "SEMIO_KULT -personality, cultural minded\n",
    "FINANZ_MINIMALIST - Financial typology, low financial interest\n",
    "\n",
    "##### First 5 Negatives:\n",
    "ANREDE_KZ - gender\n",
    "SEMIO_KAEM -personality, combative\n",
    "SEMIO_DOM-personality, dominant minded\n",
    "SEMIO_KRIT-personality, critical minded\n",
    "SEMIO_RAT--personality, rational\n",
    "\n",
    "This feature seems to target young people, who are hopeful with dreams, with social,family and cultural minded who are likely to be interested in saving. Gender doesn't seem to have an impact, neither poeple with strong personality.\n",
    "\n",
    "\n",
    "#### Feature 3:\n",
    "##### First 5 Positves:\n",
    "GREEN_AVANTGARDE - Membership in environmental sustainability as part of youth\n",
    "EWDICHTE - Density of households per square kilometer\n",
    "ORTSGR_KLS9 - community size\n",
    "PLZ8_HHZ - Number of households within the PLZ8 region\n",
    "ONLINE_AFFINITAET - online affinity\n",
    "\n",
    "##### First 5 Negatives:\n",
    "MAINSTREAM_AVANTGARDE - newly engineered feature, movement related\n",
    "KKK - purchasing power in region\n",
    "HH_EINKOMMEN_SCORE - Estimated household net income\n",
    "BALLRAUM - Distance to nearest urban center\n",
    "INNENSTADT - Distance to city center (downtown)\n",
    "\n",
    "This feature seems to idenify people who are green conscious, live in high density households in larger communites who are also active online. Low purchasing power and statying farther from the city seem to have a negative impact."
   ]
  },
  {
   "cell_type": "markdown",
   "metadata": {},
   "source": [
    "## Step 3: Clustering\n",
    "\n",
    "### Step 3.1: Apply Clustering to General Population\n",
    "\n",
    "You've assessed and cleaned the demographics data, then scaled and transformed them. Now, it's time to see how the data clusters in the principal components space. In this substep, you will apply k-means clustering to the dataset and use the average within-cluster distances from each point to their assigned cluster's centroid to decide on a number of clusters to keep.\n",
    "\n",
    "- Use sklearn's [KMeans](http://scikit-learn.org/stable/modules/generated/sklearn.cluster.KMeans.html#sklearn.cluster.KMeans) class to perform k-means clustering on the PCA-transformed data.\n",
    "- Then, compute the average difference from each point to its assigned cluster's center. **Hint**: The KMeans object's `.score()` method might be useful here, but note that in sklearn, scores tend to be defined so that larger is better. Try applying it to a small, toy dataset, or use an internet search to help your understanding.\n",
    "- Perform the above two steps for a number of different cluster counts. You can then see how the average distance decreases with an increasing number of clusters. However, each additional cluster provides a smaller net benefit. Use this fact to select a final number of clusters in which to group the data. **Warning**: because of the large size of the dataset, it can take a long time for the algorithm to resolve. The more clusters to fit, the longer the algorithm will take. You should test for cluster counts through at least 10 clusters to get the full picture, but you shouldn't need to test for a number of clusters above about 30.\n",
    "- Once you've selected a final number of clusters to use, re-fit a KMeans instance to perform the clustering operation. Make sure that you also obtain the cluster assignments for the general demographics data, since you'll be using them in the final Step 3.3."
   ]
  },
  {
   "cell_type": "code",
   "execution_count": 34,
   "metadata": {},
   "outputs": [],
   "source": [
    "#udacity function\n",
    "def get_kmeans_score(data, center):\n",
    "    '''\n",
    "    returns the kmeans score regarding SSE for points to centers\n",
    "    INPUT:\n",
    "        data - the dataset you want to fit kmeans to\n",
    "        center - the number of centers you want (the k value)\n",
    "    OUTPUT:\n",
    "        score - the SSE score for the kmeans model fit to the data\n",
    "    '''\n",
    "    #instantiate kmeans\n",
    "    kmeans = KMeans(n_clusters=center)\n",
    "\n",
    "    # Then fit the model to your data using the fit method\n",
    "    model = kmeans.fit(data)\n",
    "    \n",
    "    # Obtain a score related to the model fit\n",
    "    score = np.abs(model.score(data)) #absolute value taken\n",
    "    \n",
    "    return score"
   ]
  },
  {
   "cell_type": "code",
   "execution_count": 35,
   "metadata": {},
   "outputs": [
    {
     "name": "stdout",
     "output_type": "stream",
     "text": [
      "clustering done for 1-5\n"
     ]
    }
   ],
   "source": [
    "# Over a number of different cluster counts...\n",
    "# run k-means clustering on the data and...\n",
    "# compute the average within-cluster distances.\n",
    "scores = []\n",
    "centers = list(range(1,5))\n",
    "\n",
    "for center in centers:\n",
    "    scores.append(get_kmeans_score(azdias_pca_40, center))\n",
    "print(\"clustering done for 1-5\")"
   ]
  },
  {
   "cell_type": "code",
   "execution_count": 36,
   "metadata": {},
   "outputs": [
    {
     "name": "stdout",
     "output_type": "stream",
     "text": [
      "clustering done for 5-10\n"
     ]
    }
   ],
   "source": [
    "centers = list(range(5,10))\n",
    "\n",
    "for center in centers:\n",
    "    scores.append(get_kmeans_score(azdias_pca_40, center))\n",
    "print(\"clustering done for 5-10\")"
   ]
  },
  {
   "cell_type": "code",
   "execution_count": 37,
   "metadata": {},
   "outputs": [
    {
     "name": "stdout",
     "output_type": "stream",
     "text": [
      "clustering done for 10-15\n"
     ]
    }
   ],
   "source": [
    "centers = list(range(10,15))\n",
    "\n",
    "for center in centers:\n",
    "    scores.append(get_kmeans_score(azdias_pca_40, center))\n",
    "print(\"clustering done for 10-15\")"
   ]
  },
  {
   "cell_type": "code",
   "execution_count": 38,
   "metadata": {},
   "outputs": [
    {
     "name": "stdout",
     "output_type": "stream",
     "text": [
      "clustering done for 15-20\n"
     ]
    }
   ],
   "source": [
    "centers = list(range(15,20))\n",
    "\n",
    "for center in centers:\n",
    "    scores.append(get_kmeans_score(azdias_pca_40, center))\n",
    "print(\"clustering done for 15-20\")"
   ]
  },
  {
   "cell_type": "code",
   "execution_count": null,
   "metadata": {},
   "outputs": [],
   "source": [
    "centers = list(range(20,25))\n",
    "\n",
    "for center in centers:\n",
    "    scores.append(get_kmeans_score(azdias_pca_40, center))\n",
    "print(\"clustering done for 20-25\")"
   ]
  },
  {
   "cell_type": "code",
   "execution_count": 44,
   "metadata": {},
   "outputs": [
    {
     "data": {
      "image/png": "[encoded data removed]",
      "text/plain": [
       "<matplotlib.figure.Figure at 0x7f69bd110898>"
      ]
     },
     "metadata": {
      "needs_background": "light"
     },
     "output_type": "display_data"
    }
   ],
   "source": [
    "# Investigate the change in within-cluster distance across number of clusters.\n",
    "# HINT: Use matplotlib's plot function to visualize this relationship.\n",
    "x = range(1, 20)\n",
    "centers = list(range(1,20))\n",
    "plt.plot(centers, scores, linestyle='--', marker='o', color='b');\n",
    "plt.xlabel('K');\n",
    "plt.xticks(x)\n",
    "plt.ylabel('SSE');\n",
    "plt.title('SSE vs. K');    "
   ]
  },
  {
   "cell_type": "code",
   "execution_count": 45,
   "metadata": {},
   "outputs": [],
   "source": [
    "# Re-fit the k-means model with the selected number of clusters and obtain\n",
    "# cluster predictions for the general population demographics data.\n",
    "#going with 8 cluster counts\n",
    "kmeans_8 = KMeans(n_clusters=8).fit(azdias_pca_40)"
   ]
  },
  {
   "cell_type": "markdown",
   "metadata": {},
   "source": [
    "### Discussion 3.1: Apply Clustering to General Population\n",
    "\n",
    "I couldn't see a sharp elbow bend as it was shown in the training project example. In this curve it SSE seems to flatten between 7 and 8. So, I am going with 8 clusters."
   ]
  },
  {
   "cell_type": "markdown",
   "metadata": {},
   "source": [
    "### Step 3.2: Apply All Steps to the Customer Data\n",
    "\n",
    "Now that you have clusters and cluster centers for the general population, it's time to see how the customer data maps on to those clusters. Take care to not confuse this for re-fitting all of the models to the customer data. Instead, you're going to use the fits from the general population to clean, transform, and cluster the customer data. In the last step of the project, you will interpret how the general population fits apply to the customer data.\n",
    "\n",
    "- Don't forget when loading in the customers data, that it is semicolon (`;`) delimited.\n",
    "- Apply the same feature wrangling, selection, and engineering steps to the customer demographics using the `clean_data()` function you created earlier. (You can assume that the customer demographics data has similar meaning behind missing data patterns as the general demographics data.)\n",
    "- Use the sklearn objects from the general demographics data, and apply their transformations to the customers data. That is, you should not be using a `.fit()` or `.fit_transform()` method to re-fit the old objects, nor should you be creating new sklearn objects! Carry the data through the feature scaling, PCA, and clustering steps, obtaining cluster assignments for all of the data in the customer demographics data."
   ]
  },
  {
   "cell_type": "code",
   "execution_count": 50,
   "metadata": {},
   "outputs": [],
   "source": [
    "# Load in the customer demographics data.\n",
    "customers = pd.read_csv ('Udacity_CUSTOMERS_Subset.csv', sep = ';')"
   ]
  },
  {
   "cell_type": "code",
   "execution_count": 52,
   "metadata": {},
   "outputs": [
    {
     "name": "stdout",
     "output_type": "stream",
     "text": [
      "clustered\n"
     ]
    }
   ],
   "source": [
    "# Apply preprocessing, feature transformation, and clustering from the general\n",
    "# demographics onto the customer data, obtaining cluster predictions for the\n",
    "# customer demographics data.\n",
    "#pre process\n",
    "customers_cleansed=clean_data(customers)\n",
    "print('cleansed')\n",
    "\n",
    "#feature transformation\n",
    "customers_imputed = imputer.transform(customers_cleansed)\n",
    "customers_imputed_df = pd.DataFrame(customers_imputed, columns = customers_cleansed.columns)\n",
    "print('transformed')\n",
    "\n",
    "#feaure scaling\n",
    "customers_scaled = scaler.transform(customers_imputed)\n",
    "customers_scaled_df = pd.DataFrame(customers_scaled, columns = customers_cleansed.columns)\n",
    "print('scaled')\n",
    "\n",
    "#dimensionality redcution\n",
    "customers_pca_40 = pca_40.transform(customers_scaled_df)\n",
    "print('dimension reduced')\n",
    "\n",
    "\n",
    "#clustering prediction\n",
    "kmeans = KMeans(n_clusters = 8).fit(customers_pca_40)\n",
    "customers_predicted = kmeans.predict(customers_pca_40)\n",
    "print('clustered')"
   ]
  },
  {
   "cell_type": "markdown",
   "metadata": {},
   "source": [
    "### Step 3.3: Compare Customer Data to Demographics Data\n",
    "\n",
    "At this point, you have clustered data based on demographics of the general population of Germany, and seen how the customer data for a mail-order sales company maps onto those demographic clusters. In this final substep, you will compare the two cluster distributions to see where the strongest customer base for the company is.\n",
    "\n",
    "Consider the proportion of persons in each cluster for the general population, and the proportions for the customers. If we think the company's customer base to be universal, then the cluster assignment proportions should be fairly similar between the two. If there are only particular segments of the population that are interested in the company's products, then we should see a mismatch from one to the other. If there is a higher proportion of persons in a cluster for the customer data compared to the general population (e.g. 5% of persons are assigned to a cluster for the general population, but 15% of the customer data is closest to that cluster's centroid) then that suggests the people in that cluster to be a target audience for the company. On the other hand, the proportion of the data in a cluster being larger in the general population than the customer data (e.g. only 2% of customers closest to a population centroid that captures 6% of the data) suggests that group of persons to be outside of the target demographics.\n",
    "\n",
    "Take a look at the following points in this step:\n",
    "\n",
    "- Compute the proportion of data points in each cluster for the general population and the customer data. Visualizations will be useful here: both for the individual dataset proportions, but also to visualize the ratios in cluster representation between groups. Seaborn's [`countplot()`](https://seaborn.pydata.org/generated/seaborn.countplot.html) or [`barplot()`](https://seaborn.pydata.org/generated/seaborn.barplot.html) function could be handy.\n",
    "  - Recall the analysis you performed in step 1.1.3 of the project, where you separated out certain data points from the dataset if they had more than a specified threshold of missing values. If you found that this group was qualitatively different from the main bulk of the data, you should treat this as an additional data cluster in this analysis. Make sure that you account for the number of data points in this subset, for both the general population and customer datasets, when making your computations!\n",
    "- Which cluster or clusters are overrepresented in the customer dataset compared to the general population? Select at least one such cluster and infer what kind of people might be represented by that cluster. Use the principal component interpretations from step 2.3 or look at additional components to help you make this inference. Alternatively, you can use the `.inverse_transform()` method of the PCA and StandardScaler objects to transform centroids back to the original data space and interpret the retrieved values directly.\n",
    "- Perform a similar investigation for the underrepresented clusters. Which cluster or clusters are underrepresented in the customer dataset compared to the general population, and what kinds of people are typified by these clusters?"
   ]
  },
  {
   "cell_type": "code",
   "execution_count": 53,
   "metadata": {},
   "outputs": [
    {
     "data": {
      "image/png": "[encoded data removed]",
      "text/plain": [
       "<matplotlib.figure.Figure at 0x7f69bcff4978>"
      ]
     },
     "metadata": {
      "needs_background": "light"
     },
     "output_type": "display_data"
    }
   ],
   "source": [
    "# Compare the proportion of data in each cluster for the customer data to the\n",
    "# proportion of data in each cluster for the general population.\n",
    "\n",
    "#predict gen population\n",
    "azdias_predicted = kmeans_8.predict(azdias_pca_40)\n",
    "\n",
    "gen_pop_proportion_df = pd.DataFrame(data=azdias_predicted, columns=['flag'])['flag'].value_counts()/len(azdias_predicted)\n",
    "customer_proportion_df = pd.DataFrame(data=customers_predicted, columns=['flag'])['flag'].value_counts()/len(customers_predicted)\n",
    "\n",
    "# Plot the proportions\n",
    "df = pd.DataFrame({'General Population': gen_pop_proportion_df,'Customers': customer_proportion_df})\n",
    "df.plot.bar(rot=0)\n",
    "plt.show()"
   ]
  },
  {
   "cell_type": "code",
   "execution_count": 57,
   "metadata": {},
   "outputs": [],
   "source": [
    "# What kinds of people are part of a cluster that is overrepresented in the\n",
    "# customer data compared to the general population?\n",
    "\n"
   ]
  },
  {
   "cell_type": "code",
   "execution_count": 58,
   "metadata": {},
   "outputs": [],
   "source": [
    "# What kinds of people are part of a cluster that is underrepresented in the\n",
    "# customer data compared to the general population?\n",
    "\n"
   ]
  },
  {
   "cell_type": "markdown",
   "metadata": {},
   "source": [
    "### Discussion 3.3: Compare Customer Data to Demographics Data\n",
    "\n",
    "(Double-click this cell and replace this text with your own text, reporting findings and conclusions from the clustering analysis. Can we describe segments of the population that are relatively popular with the mail-order company, or relatively unpopular with the company?)"
   ]
  },
  {
   "cell_type": "markdown",
   "metadata": {},
   "source": [
    "> Congratulations on making it this far in the project! Before you finish, make sure to check through the entire notebook from top to bottom to make sure that your analysis follows a logical flow and all of your findings are documented in **Discussion** cells. Once you've checked over all of your work, you should export the notebook as an HTML document to submit for evaluation. You can do this from the menu, navigating to **File -> Download as -> HTML (.html)**. You will submit both that document and this notebook for your project submission."
   ]
  },
  {
   "cell_type": "code",
   "execution_count": null,
   "metadata": {},
   "outputs": [],
   "source": []
  }
 ],
 "metadata": {
  "kernelspec": {
   "display_name": "Python 3",
   "language": "python",
   "name": "python3"
  },
  "language_info": {
   "codemirror_mode": {
    "name": "ipython",
    "version": 3
   },
   "file_extension": ".py",
   "mimetype": "text/x-python",
   "name": "python",
   "nbconvert_exporter": "python",
   "pygments_lexer": "ipython3",
   "version": "3.6.3"
  }
 },
 "nbformat": 4,
 "nbformat_minor": 2
}
